{
  "nbformat": 4,
  "nbformat_minor": 0,
  "metadata": {
    "colab": {
      "provenance": [],
      "authorship_tag": "ABX9TyMjNMkA/L7AhHARoahvTl7i",
      "include_colab_link": true
    },
    "kernelspec": {
      "name": "python3",
      "display_name": "Python 3"
    },
    "language_info": {
      "name": "python"
    }
  },
  "cells": [
    {
      "cell_type": "markdown",
      "metadata": {
        "id": "view-in-github",
        "colab_type": "text"
      },
      "source": [
        "<a href=\"https://colab.research.google.com/github/isabellahyphen/mandelbrot/blob/main/mandelbrot.ipynb\" target=\"_parent\"><img src=\"https://colab.research.google.com/assets/colab-badge.svg\" alt=\"Open In Colab\"/></a>"
      ]
    },
    {
      "cell_type": "code",
      "source": [
        "import numpy as np\n",
        "import scipy.fftpack\n",
        "\n",
        "# ffGn: fast (exact) fractional Gaussian noise and Brownian motion generator\n",
        "# parameters: [N: Length of the output sequence; H: Hurst index; sigma: Standard deviation (optional, default=1); mu: Mean (optional, default=0)]\n",
        "# returns: [y: generated noise sequence]\n",
        "\n",
        "# frequency_values: values of frequencies for fft\n",
        "# spectral_density: spectral density based on hurst index\n",
        "# white_noise_frequency: white noise in frequency domain\n",
        "# fgn_frequency: fractional gaussian noise in frequency domain\n",
        "# time_domain_sequence: sequence in time domain after inverse fft\n",
        "# noise_sequence`: final generated noise sequence\n",
        "\n",
        "def ffGn(N, H, sigma=1, mu=0):\n",
        "    # calculate the spectral density\n",
        "    frequency_values = np.fft.fftfreq(N)\n",
        "    frequency_values = np.hstack((frequency_values[1:N//2], frequency_values[-N//2+1:]))\n",
        "    spectral_density = 1 / np.abs(frequency_values) ** (2 * H)\n",
        "\n",
        "    # generate white noise\n",
        "    white_noise_frequency = np.random.normal(0, 1, len(frequency_values)) + 1j * np.random.normal(0, 1, len(frequency_values))\n",
        "\n",
        "    # generate the fGn\n",
        "    fgn_frequency = np.sqrt(spectral_density / 2) * white_noise_frequency\n",
        "    fgn_frequency = np.hstack((1, fgn_frequency, np.conj(fgn_frequency[::-1])))\n",
        "\n",
        "    # inverse fft to obtain time domain sequence\n",
        "    time_domain_sequence = np.fft.ifft(fgn_frequency).real\n",
        "    time_domain_sequence = np.cumsum(time_domain_sequence)  # keep it if we want fBm, but comment out for fGn\n",
        "\n",
        "    # rescale\n",
        "    time_domain_sequence -= np.min(time_domain_sequence)\n",
        "    time_domain_sequence /= np.max(time_domain_sequence)\n",
        "    time_domain_sequence = time_domain_sequence * sigma + mu\n",
        "\n",
        "    return time_domain_sequence\n",
        "\n",
        "# test the function\n",
        "ffGn(N=1000, H=0.5)[:10]"
      ],
      "metadata": {
        "colab": {
          "base_uri": "https://localhost:8080/"
        },
        "id": "hXzoWFLT-0b2",
        "outputId": "5bbd410c-233e-41cc-a0ac-aa9488620472"
      },
      "execution_count": 28,
      "outputs": [
        {
          "output_type": "execute_result",
          "data": {
            "text/plain": [
              "array([0.5817285 , 0.57989826, 0.57643034, 0.57455337, 0.57073899,\n",
              "       0.56635588, 0.56023458, 0.55816057, 0.55722563, 0.55407164])"
            ]
          },
          "metadata": {},
          "execution_count": 28
        }
      ]
    },
    {
      "cell_type": "code",
      "source": [
        "def lognormal_cascade(num_intervals, num_iterations, initial_value, lognorm_mean, lognorm_std_dev):\n",
        "\n",
        "# it computes the random (lognormal) multifractal measure iteratively\n",
        "# parameters: [num_intervals: number of intervals to be subdivided; num_iterations: number of iterations or stages;\n",
        "# initial_value: initial value or area to be subdivided; lognorm_mean: mean parameter for the lognormal distribution;\n",
        "# lognorm_std_dev: standard deviation parameter for the lognormal distribution;]\n",
        "# returns: [weights: a row vector containing the weights after the last iteration; cdf_weights: cumulative distribution function of weights]\n",
        "\n",
        "    weights = np.array([initial_value])\n",
        "\n",
        "    for _ in range(num_iterations):\n",
        "        lognorm_samples = np.random.lognormal(lognorm_mean, lognorm_std_dev, len(weights) * num_intervals)\n",
        "        normalized_samples = lognorm_samples / np.sum(lognorm_samples)\n",
        "        weights = np.repeat(weights, num_intervals) * normalized_samples\n",
        "\n",
        "    cdf_weights = np.cumsum(weights)\n",
        "    return weights, cdf_weights\n",
        "\n",
        "# test it!\n",
        "lognormal_cascade(num_intervals=2, num_iterations=3, initial_value=1, lognorm_mean=0, lognorm_std_dev=0.5)"
      ],
      "metadata": {
        "colab": {
          "base_uri": "https://localhost:8080/"
        },
        "id": "P3tJAOiKAX8b",
        "outputId": "49290bb3-f585-4a52-e3d4-81984b0d4c0a"
      },
      "execution_count": 30,
      "outputs": [
        {
          "output_type": "execute_result",
          "data": {
            "text/plain": [
              "(array([0.00331898, 0.00586959, 0.00577119, 0.0132711 , 0.02313874,\n",
              "        0.01254962, 0.01517822, 0.03436535]),\n",
              " array([0.00331898, 0.00918857, 0.01495977, 0.02823086, 0.0513696 ,\n",
              "        0.06391922, 0.07909745, 0.1134628 ]))"
            ]
          },
          "metadata": {},
          "execution_count": 30
        }
      ]
    },
    {
      "cell_type": "code",
      "source": [
        "def mmar(num_subdivisions, num_iterations, Hurst_exponent, lognorm_mean, lognorm_std_dev):\n",
        "\n",
        "# simulates a multifractal model of asset return using a multiplicative lognormal cascade\n",
        "# parameters: [num_subdivisions: number of subdivisions (i.e. 2 for binomial model); num_iterations: number of iterations;\n",
        "# the output sequence is of length num_subdivisions^num_iterations; hurst_exponent: for the fractional brownian motion;\n",
        "# lognorm_mean: mean of the lognormal distribution; lognorm_std_dev: standard deviation for the lognormal distribution]\n",
        "# returns: [asset_returns: simulated asset returns]\n",
        "\n",
        "    sequence_length = num_subdivisions ** num_iterations\n",
        "    lognorm_weights, _ = lognormal_cascade(num_subdivisions, num_iterations, 1, lognorm_mean, lognorm_std_dev)\n",
        "\n",
        "    # adjust the length of the generated fGn to match lognorm_weights\n",
        "    fGn_sequence = ffGn(len(lognorm_weights), Hurst_exponent)\n",
        "\n",
        "    asset_returns = np.diff(fGn_sequence)[:len(lognorm_weights)] * lognorm_weights\n",
        "\n",
        "    return asset_returns\n",
        "\n",
        "# test our function\n",
        "mmar(num_subdivisions=2, num_iterations=3, Hurst_exponent=0.5, lognorm_mean=0, lognorm_std_dev=0.5)[:10]\n"
      ],
      "metadata": {
        "colab": {
          "base_uri": "https://localhost:8080/"
        },
        "id": "gDHx8XOFBkPL",
        "outputId": "123f2b1d-af26-4436-cfe7-4c467a5d498a"
      },
      "execution_count": 33,
      "outputs": [
        {
          "output_type": "execute_result",
          "data": {
            "text/plain": [
              "array([ 6.70899637e-04,  1.48700516e-04, -4.90295278e-04, -9.32312776e-05,\n",
              "       -8.88085074e-04, -4.74356259e-03, -9.22961796e-03,  1.27962456e-02])"
            ]
          },
          "metadata": {},
          "execution_count": 33
        }
      ]
    }
  ]
}